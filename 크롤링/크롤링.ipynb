{
  "nbformat": 4,
  "nbformat_minor": 0,
  "metadata": {
    "colab": {
      "provenance": []
    },
    "kernelspec": {
      "name": "python3",
      "display_name": "Python 3"
    },
    "language_info": {
      "name": "python"
    }
  },
  "cells": [
    {
      "cell_type": "markdown",
      "source": [
        "# **판례 목록 크롤링**"
      ],
      "metadata": {
        "id": "PusoEJejP9xS"
      }
    },
    {
      "cell_type": "code",
      "execution_count": null,
      "metadata": {
        "id": "V2gKeG55Pkm1"
      },
      "outputs": [],
      "source": [
        "import pandas as pd\n",
        "import xml.etree.ElementTree as ET\n",
        "from urllib.request import urlopen\n",
        "from tqdm import trange\n",
        "import ssl\n",
        "from google.colab import drive\n",
        "\n",
        "# Google Drive 마운트\n",
        "drive.mount('/content/drive')\n",
        "data_path = '/content/drive/MyDrive/법률_데이터'\n",
        "\n",
        "ssl._create_default_https_context = ssl._create_unverified_context"
      ]
    },
    {
      "cell_type": "code",
      "source": [
        "url = \"https://www.law.go.kr/DRF/lawSearch.do?OC={아이디}&target=prec&type=XML\"\n",
        "response = urlopen(url).read()\n",
        "xml_data = ET.fromstring(response)\n",
        "\n",
        "totalCnt = int(xml_data.find('totalCnt').text)\n",
        "print(totalCnt)"
      ],
      "metadata": {
        "id": "gp7_-6LYQBoo"
      },
      "execution_count": null,
      "outputs": []
    },
    {
      "cell_type": "code",
      "source": [
        "page = 1\n",
        "rows = []\n",
        "for i in trange(int(totalCnt / 20)):\n",
        "    try:\n",
        "        prec_info = xml_data[5:]\n",
        "    except:\n",
        "        break\n",
        "\n",
        "    for info in prec_info:\n",
        "        judicPrecNum = info.find('판례일련번호').text\n",
        "        case = info.find('사건명').text\n",
        "        caseNum = info.find('사건번호').text\n",
        "        sentence_date = info.find('선고일자').text\n",
        "        court = info.find('법원명').text\n",
        "        caseInfo = info.find('사건종류명').text\n",
        "        caseCode = info.find('사건종류코드').text\n",
        "        judgment = info.find('판결유형').text\n",
        "        sentence = info.find('선고').text\n",
        "        judicPrecLink = info.find('판례상세링크').text\n",
        "\n",
        "        rows.append({'판례일련번호': judicPrecNum,\n",
        "                     '사건명': case,\n",
        "                     '사건번호': caseNum,\n",
        "                     '선고일자': sentence_date,\n",
        "                     '법원명': court,\n",
        "                     '사건종류명': caseInfo,\n",
        "                     '사건종류코드': caseCode,\n",
        "                     '판결유형': judgment,\n",
        "                     '선고': sentence,\n",
        "                     '판례상세링크': judicPrecLink})\n",
        "    page += 1\n",
        "    response = urlopen(url + '&page=' + str(page)).read()\n",
        "    xml_data = ET.fromstring(response)\n",
        "\n",
        "judicPrecList = pd.DataFrame(rows)\n",
        "judicPrecList.to_csv(f'{data_path}/judicial_precedent_list.csv', index=False)"
      ],
      "metadata": {
        "id": "egzIu7zdQCug"
      },
      "execution_count": null,
      "outputs": []
    },
    {
      "cell_type": "markdown",
      "source": [
        "# **판례 본문 크롤링**"
      ],
      "metadata": {
        "id": "1qdtsvkZQElJ"
      }
    },
    {
      "cell_type": "code",
      "source": [
        "import xml.etree.ElementTree as ET\n",
        "from urllib.request import urlopen\n",
        "from tqdm import trange\n",
        "from datetime import datetime\n",
        "import re\n",
        "import ssl\n",
        "import pandas as pd\n",
        "from google.colab import drive\n",
        "\n",
        "# Google Drive 마운트\n",
        "drive.mount('/content/drive')\n",
        "data_path = '/content/drive/MyDrive/법률_데이터'\n",
        "\n",
        "ssl._create_default_https_context = ssl._create_unverified_context"
      ],
      "metadata": {
        "id": "gPJ0BQCRQGes"
      },
      "execution_count": null,
      "outputs": []
    },
    {
      "cell_type": "code",
      "source": [
        "def remove_tag(content):\n",
        "    cleaned_text = re.sub('<.*?>', '', content)\n",
        "    return cleaned_text\n",
        "\n",
        "API_KEY = \"본인 ID\"\n",
        "BASE_URL = f\"https://www.law.go.kr/DRF/lawSearch.do?OC={API_KEY}&target=prec&type=XML\"\n",
        "lawService = ['판시사항', '판결요지', '참조조문', '참조판례', '판례내용']"
      ],
      "metadata": {
        "id": "Tv5xvA3PQNc-"
      },
      "execution_count": null,
      "outputs": []
    },
    {
      "cell_type": "code",
      "source": [
        "def get_page_url(base_url, page):\n",
        "    return f\"{base_url}&page={page}\"\n",
        "\n",
        "response = urlopen(BASE_URL).read()\n",
        "xml_data = ET.fromstring(response)\n",
        "\n",
        "totalCnt = int(xml_data.find('totalCnt').text)\n",
        "print(f\"Total cases: {totalCnt}\")"
      ],
      "metadata": {
        "id": "pVzm86WWQQpj"
      },
      "execution_count": null,
      "outputs": []
    },
    {
      "cell_type": "code",
      "source": [
        "all_data = []\n",
        "for page in trange(1, totalCnt // 20 + 1):\n",
        "    try:\n",
        "        prec_info = xml_data.findall('prec')\n",
        "    except Exception as e:\n",
        "        print(f\"Failed to parse page {page}: {e}\")\n",
        "        break\n",
        "\n",
        "    for info in prec_info:\n",
        "        try:\n",
        "            judicPrecNum = info.find('판례일료번호').text\n",
        "            case = info.find('사건명').text\n",
        "            caseNum = info.find('사건번호').text\n",
        "            sentence_date = datetime.strptime(info.find('선고일자').text, '%Y.%m.%d')\n",
        "            court = info.find('법원명').text\n",
        "            caseInfo = info.find('사건종류명').text\n",
        "            caseCode = info.find('사건종류코드').text\n",
        "            judgment = info.find('판결유형').text\n",
        "            sentence = info.find('선고').text\n",
        "            judicPrecLink = info.find('판례상세링크').text\n",
        "\n",
        "            detail_link = \"https://www.law.go.kr/\" + judicPrecLink.replace('HTML', 'XML')\n",
        "            detail = urlopen(detail_link).read()\n",
        "            detail_data = ET.fromstring(detail)\n",
        "\n",
        "            content_list = []\n",
        "            for content in lawService:\n",
        "                if detail_data.find(content) is None:\n",
        "                    text = '내용없음'\n",
        "                else:\n",
        "                    text = remove_tag(str(detail_data.find(content).text))\n",
        "                content_list.append(text)\n",
        "\n",
        "            prec_content = content_list[4].split(\"【\")[1:]\n",
        "            pattern = \"[^【]*】\"\n",
        "            prec_dic = {}\n",
        "\n",
        "            for content in prec_content:\n",
        "                match = re.match(pattern, content)\n",
        "                if match:\n",
        "                    key = match.group(0).replace(\"】\", \"\").strip()\n",
        "                    value = content.replace(match.group(0), \"\").strip()\n",
        "                    if key in prec_dic:\n",
        "                        prec_dic[key] += f\" 【{key}\" + value\n",
        "                    else:\n",
        "                        prec_dic[key] = value\n",
        "\n",
        "            result = {\n",
        "                '판례일료번호': judicPrecNum,\n",
        "                '사건명': case,\n",
        "                '사건번호': caseNum,\n",
        "                '선고일자': sentence_date.strftime(\"%Y-%m-%d\"),\n",
        "                '법원명': court,\n",
        "                '사건종류명': caseInfo,\n",
        "                '사건종류코드': caseCode,\n",
        "                '판결유형': judgment,\n",
        "                '선고': sentence,\n",
        "                '판시사항': content_list[0].strip(),\n",
        "                '판결요지': content_list[1].strip(),\n",
        "                '참조조문': content_list[2].strip(),\n",
        "                '참조판례': content_list[3].strip(),\n",
        "                '판례내용': prec_dic\n",
        "            }\n",
        "\n",
        "            all_data.append(result)\n",
        "\n",
        "        except Exception as e:\n",
        "            print(f\"Error processing case {caseNum}: {e}\")\n",
        "\n",
        "    page += 1\n",
        "    response = urlopen(get_page_url(BASE_URL, page)).read()\n",
        "    xml_data = ET.fromstring(response)\n",
        "\n",
        "judicPrecList = pd.DataFrame(all_data)\n",
        "judicPrecList.to_excel(f'{data_path}/판례_본문.xlsx', index=False)\n",
        "\n",
        "print(\"데이터 수집 및 저장 완료!\")"
      ],
      "metadata": {
        "id": "gDPOYT48QR6b"
      },
      "execution_count": null,
      "outputs": []
    }
  ]
}