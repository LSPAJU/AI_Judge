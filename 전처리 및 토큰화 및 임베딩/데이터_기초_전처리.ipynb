{
  "nbformat": 4,
  "nbformat_minor": 0,
  "metadata": {
    "colab": {
      "provenance": []
    },
    "kernelspec": {
      "name": "python3",
      "display_name": "Python 3"
    },
    "language_info": {
      "name": "python"
    }
  },
  "cells": [
    {
      "cell_type": "code",
      "execution_count": null,
      "metadata": {
        "id": "mIfr8GdKR7_d"
      },
      "outputs": [],
      "source": [
        "import pandas as pd"
      ]
    },
    {
      "cell_type": "code",
      "source": [
        "from google.colab import drive, files\n",
        "drive.mount('/content/drive')"
      ],
      "metadata": {
        "id": "79ciIZhoSgoX"
      },
      "execution_count": null,
      "outputs": []
    },
    {
      "cell_type": "code",
      "source": [
        "df = pd.read_excel('/content/drive/MyDrive/판례_본문.xlsx')"
      ],
      "metadata": {
        "id": "pAbN2_m8ShZG"
      },
      "execution_count": null,
      "outputs": []
    },
    {
      "cell_type": "code",
      "source": [
        "df_cleaned = df.dropna()"
      ],
      "metadata": {
        "id": "R-HTVekzSmgG"
      },
      "execution_count": null,
      "outputs": []
    },
    {
      "cell_type": "code",
      "source": [
        "valid_cases = ['형사', '민사', '가사', '세무']\n",
        "df_filtered = df_cleaned[df_cleaned['사건종류명'].isin(valid_cases)]"
      ],
      "metadata": {
        "id": "8-0Ha_dBSqPw"
      },
      "execution_count": null,
      "outputs": []
    },
    {
      "cell_type": "code",
      "source": [
        "df_final = df_filtered[df_filtered['판례내용'].notna()]"
      ],
      "metadata": {
        "id": "d7VU6m7_SsWh"
      },
      "execution_count": null,
      "outputs": []
    },
    {
      "cell_type": "code",
      "source": [
        "output_path = \"df_semi_final.xlsx\"\n",
        "df_final.to_excel(output_path, index=False)"
      ],
      "metadata": {
        "id": "jWtgQJAtS5ly"
      },
      "execution_count": null,
      "outputs": []
    },
    {
      "cell_type": "code",
      "source": [
        "files.download(output_path)"
      ],
      "metadata": {
        "id": "NH5af7MZTeqT"
      },
      "execution_count": null,
      "outputs": []
    }
  ]
}